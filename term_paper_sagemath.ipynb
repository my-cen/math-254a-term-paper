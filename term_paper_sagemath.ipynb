{
 "cells": [
  {
   "cell_type": "code",
   "execution_count": 1,
   "id": "1a483bc6-9e1b-492c-9847-8a41b5007262",
   "metadata": {},
   "outputs": [],
   "source": [
    "import itertools"
   ]
  },
  {
   "cell_type": "code",
   "execution_count": 2,
   "id": "a49df342-0bf0-459c-8df6-ec55e51c75f7",
   "metadata": {},
   "outputs": [
    {
     "name": "stdout",
     "output_type": "stream",
     "text": [
      "+Infinity\n",
      "7\n"
     ]
    }
   ],
   "source": [
    "def truant(quad_form, checking_limit=16):\n",
    "    max_for_variables = int(sqrt(checking_limit)) + 3\n",
    "    num_repr = []\n",
    "    for num_pair in itertools.product([i for i in range(max_for_variables)], repeat=quad_form.dim()):\n",
    "        num_repr.append(quad_form(num_pair))\n",
    "    for num_to_check in range(checking_limit):\n",
    "        if num_to_check not in num_repr:\n",
    "            return num_to_check\n",
    "    return oo\n",
    "print(truant(QuadraticForm(ZZ, 4, [1,0,0,0,1,0,0,1,0,1])))\n",
    "print(truant(QuadraticForm(ZZ, 3, [1,0,0,1,0,1])))"
   ]
  },
  {
   "cell_type": "code",
   "execution_count": 3,
   "id": "cd9d04d4-5ef1-4d9e-8b5f-0d7bb8e2cfa7",
   "metadata": {},
   "outputs": [],
   "source": [
    "zero_dimensional_escalators = [QuadraticForm(ZZ, 0, [])]"
   ]
  },
  {
   "cell_type": "code",
   "execution_count": 4,
   "id": "fdd43be2-0e4a-415d-9a77-e527e891db51",
   "metadata": {},
   "outputs": [],
   "source": [
    "one_dimensional_escalators = [QuadraticForm(ZZ, 1, [1])]"
   ]
  },
  {
   "cell_type": "code",
   "execution_count": 5,
   "id": "e1c77209-820a-4b2f-95d9-ba21fa54c5f0",
   "metadata": {},
   "outputs": [],
   "source": [
    "two_dimensional_escalators = [QuadraticForm(ZZ, 2, [1,0,1]), QuadraticForm(ZZ, 2, [1,0,2])]"
   ]
  },
  {
   "cell_type": "code",
   "execution_count": 6,
   "id": "3f4a1b4d-7dfd-460b-b9c8-d60989d017d5",
   "metadata": {},
   "outputs": [],
   "source": [
    "three_dimensional_escalators = [QuadraticForm(ZZ, 3, l) for l in [[1,0,0,1,0,1], [1,0,0,1,0,2], [1,0,0,1,0,3], [1,0,0,2,0,2], [1,0,0,2,0,3], [1,0,0,2,2,4], [1,0,0,2,0,4], [1,0,0,2,2,5], [1,0,0,2,0,5]]]"
   ]
  },
  {
   "cell_type": "code",
   "execution_count": 7,
   "id": "27edc848-6937-4a98-84b8-fc29a0804e30",
   "metadata": {},
   "outputs": [
    {
     "name": "stdout",
     "output_type": "stream",
     "text": [
      "Quadratic form in 3 variables over Integer Ring with coefficients: \n",
      "[ 1 0 0 ]\n",
      "[ * 1 0 ]\n",
      "[ * * 1 ]\n",
      "Truant: 7\n",
      "Quadratic form in 3 variables over Integer Ring with coefficients: \n",
      "[ 1 0 0 ]\n",
      "[ * 1 0 ]\n",
      "[ * * 2 ]\n",
      "Truant: 14\n",
      "Quadratic form in 3 variables over Integer Ring with coefficients: \n",
      "[ 1 0 0 ]\n",
      "[ * 1 0 ]\n",
      "[ * * 3 ]\n",
      "Truant: 6\n",
      "Quadratic form in 3 variables over Integer Ring with coefficients: \n",
      "[ 1 0 0 ]\n",
      "[ * 2 0 ]\n",
      "[ * * 2 ]\n",
      "Truant: 7\n",
      "Quadratic form in 3 variables over Integer Ring with coefficients: \n",
      "[ 1 0 0 ]\n",
      "[ * 2 0 ]\n",
      "[ * * 3 ]\n",
      "Truant: 10\n",
      "Quadratic form in 3 variables over Integer Ring with coefficients: \n",
      "[ 1 0 0 ]\n",
      "[ * 2 2 ]\n",
      "[ * * 4 ]\n",
      "Truant: 7\n",
      "Quadratic form in 3 variables over Integer Ring with coefficients: \n",
      "[ 1 0 0 ]\n",
      "[ * 2 0 ]\n",
      "[ * * 4 ]\n",
      "Truant: 14\n",
      "Quadratic form in 3 variables over Integer Ring with coefficients: \n",
      "[ 1 0 0 ]\n",
      "[ * 2 2 ]\n",
      "[ * * 5 ]\n",
      "Truant: 7\n",
      "Quadratic form in 3 variables over Integer Ring with coefficients: \n",
      "[ 1 0 0 ]\n",
      "[ * 2 0 ]\n",
      "[ * * 5 ]\n",
      "Truant: 10\n"
     ]
    }
   ],
   "source": [
    "for form in three_dimensional_escalators:\n",
    "    print(form)\n",
    "    truant_of_form = truant(form)\n",
    "    print(\"Truant:\", truant_of_form)"
   ]
  },
  {
   "cell_type": "code",
   "execution_count": 8,
   "id": "42e07b52-7e64-4c06-97fa-940da18d95cd",
   "metadata": {},
   "outputs": [
    {
     "name": "stdout",
     "output_type": "stream",
     "text": [
      "Quadratic form in 4 variables over Integer Ring with coefficients: \n",
      "[ 1 0 0 0 ]\n",
      "[ * 2 0 2 ]\n",
      "[ * * 3 0 ]\n",
      "[ * * * 4 ]\n",
      "Truant: 10\n",
      "Quadratic form in 4 variables over Integer Ring with coefficients: \n",
      "[ 1 0 0 0 ]\n",
      "[ * 2 2 0 ]\n",
      "[ * * 4 2 ]\n",
      "[ * * * 5 ]\n",
      "Truant: 10\n",
      "Quadratic form in 4 variables over Integer Ring with coefficients: \n",
      "[ 1 0 0 0 ]\n",
      "[ * 2 0 0 ]\n",
      "[ * * 5 2 ]\n",
      "[ * * * 5 ]\n",
      "Truant: 10\n",
      "Quadratic form in 4 variables over Integer Ring with coefficients: \n",
      "[ 1 0 0 0 ]\n",
      "[ * 2 0 0 ]\n",
      "[ * * 5 0 ]\n",
      "[ * * * 5 ]\n",
      "Truant: 15\n",
      "Quadratic form in 4 variables over Integer Ring with coefficients: \n",
      "[ 1 0 0 0 ]\n",
      "[ * 2 0 2 ]\n",
      "[ * * 5 4 ]\n",
      "[ * * * 8 ]\n",
      "Truant: 10\n",
      "Quadratic form in 4 variables over Integer Ring with coefficients: \n",
      "[ 1 0 0 0 ]\n",
      "[ * 2 0 2 ]\n",
      "[ * * 5 2 ]\n",
      "[ * * * 9 ]\n",
      "Truant: 15\n"
     ]
    }
   ],
   "source": [
    "four_dimensional_non_universal_escalators = [QuadraticForm(ZZ, 4, l) for l in [[1,0,0,0,2,0,2,3,0,4], [1,0,0,0,2,2,0,4,2,5], [1,0,0,0,2,0,0,5,2,5], [1,0,0,0,2,0,0,5,0,5], [1,0,0,0,2,0,2,5,4,8], [1,0,0,0,2,0,2,5,2,9]]]\n",
    "for form in four_dimensional_non_universal_escalators:\n",
    "    print(form)\n",
    "    truant_of_form = truant(form)\n",
    "    print(\"Truant:\", truant_of_form)\n",
    "    # wrong results for some reason"
   ]
  },
  {
   "cell_type": "code",
   "execution_count": 9,
   "id": "1c5b0729-61b6-4aea-b406-f3bcf1f99b7d",
   "metadata": {},
   "outputs": [],
   "source": [
    "## creates lists of all escalators of zero lattice\n",
    "#one_dim.<a> = ZZ[]\n",
    "#two_dim.<a,b> = ZZ[]\n",
    "#three_dim.<a,b,c> = ZZ[]\n",
    "#four_dim.<a,b,c,d> = ZZ[]\n",
    "#five_dim.<a,b,c,d,e> = ZZ[]\n",
    "#zero_dimensional_escalators_calculated = [QuadraticForm(ZZ,0,[])]\n",
    "#one_dimensional_escalators_calculated = [quad_form.polynomial() + "
   ]
  },
  {
   "cell_type": "code",
   "execution_count": 10,
   "id": "8aeece98-d343-41c6-b60b-d7cb47998cb9",
   "metadata": {},
   "outputs": [
    {
     "name": "stdout",
     "output_type": "stream",
     "text": [
      "2 16\n",
      "[]\n",
      "----\n",
      "3 9\n",
      "{0, 1, 2, 3, 4, 5, 6, 7, 8}\n",
      "[]\n",
      "----\n",
      "5 25\n",
      "{0, 1, 2, 3, 4, 5, 6, 7, 8, 9, 10, 11, 12, 13, 14, 15, 16, 17, 18, 19, 20, 21, 22, 23, 24}\n",
      "[]\n",
      "----\n",
      "7 49\n",
      "{0, 1, 2, 3, 4, 5, 6, 7, 8, 9, 10, 11, 12, 13, 14, 15, 16, 17, 18, 19, 20, 22, 23, 24, 25, 26, 27, 28, 29, 30, 31, 32, 33, 34, 36, 37, 38, 39, 40, 41, 43, 44, 45, 46, 47, 48}\n",
      "[21, 35, 42]\n",
      "----\n",
      "11 121\n",
      "{0, 1, 2, 3, 4, 5, 6, 7, 8, 9, 10, 11, 12, 13, 14, 15, 16, 17, 18, 19, 20, 21, 22, 23, 24, 25, 26, 27, 28, 29, 30, 31, 32, 33, 34, 35, 36, 37, 38, 39, 40, 41, 42, 43, 44, 45, 46, 47, 48, 49, 50, 51, 52, 53, 54, 55, 56, 57, 58, 59, 60, 61, 62, 63, 64, 65, 66, 67, 68, 69, 70, 71, 72, 73, 74, 75, 76, 77, 78, 79, 80, 81, 82, 83, 84, 85, 86, 87, 88, 89, 90, 91, 92, 93, 94, 95, 96, 97, 98, 99, 100, 101, 102, 103, 104, 105, 106, 107, 108, 109, 110, 111, 112, 113, 114, 115, 116, 117, 118, 119, 120}\n",
      "[]\n",
      "----\n"
     ]
    }
   ],
   "source": [
    "three_dim_esc_lattice = Matrix([[1,0,0],[0,2,1],[0,1,4]])\n",
    "three_dim_esc_quad_form = QuadraticForm(2*three_dim_esc_lattice)\n",
    "Zmodsixteen = IntegerModRing(16)\n",
    "nums_repr_by_lattice_mod_sixteen = {Zmodsixteen(three_dim_esc_quad_form([a,b,c])) for a in range(16) for b in range(16) for c in range(16)}\n",
    "print(2,16)\n",
    "print([num for num in Zmodsixteen if num not in nums_repr_by_lattice_mod_sixteen])\n",
    "print('----')\n",
    "for prime_num in [3,5,7,11]:\n",
    "    Zmodprimesq = IntegerModRing(prime_num^2)\n",
    "    nums_repr_by_lattice_mod_primesq = {Zmodprimesq(three_dim_esc_quad_form([a,b,c])) for a in range(prime_num^2) for b in range(prime_num^2) for c in range(prime_num^2)}\n",
    "    print(prime_num, prime_num^2)\n",
    "    print(nums_repr_by_lattice_mod_primesq)\n",
    "    print([num for num in Zmodprimesq if num not in nums_repr_by_lattice_mod_primesq])\n",
    "    print('----')"
   ]
  }
 ],
 "metadata": {
  "kernelspec": {
   "display_name": "SageMath 10.4",
   "language": "sage",
   "name": "sagemath-10.4"
  },
  "language_info": {
   "codemirror_mode": {
    "name": "ipython",
    "version": 3
   },
   "file_extension": ".py",
   "mimetype": "text/x-python",
   "name": "python",
   "nbconvert_exporter": "python",
   "pygments_lexer": "ipython3",
   "version": "3.12.4"
  }
 },
 "nbformat": 4,
 "nbformat_minor": 5
}
